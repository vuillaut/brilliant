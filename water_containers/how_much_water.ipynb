{
 "cells": [
  {
   "cell_type": "markdown",
   "metadata": {},
   "source": [
    "# How Much Water?\n",
    "\n",
    "https://brilliant.org/daily-problems/pour-it-out-14/\n",
    "\n",
    "Two containers: One holds 33 liters and the other holds 5.5.\n",
    "\n",
    "The challenge: Measure a specific quantity of liquid using only a sequence of actions chosen from the legal moves below."
   ]
  },
  {
   "cell_type": "code",
   "execution_count": 8,
   "metadata": {},
   "outputs": [],
   "source": [
    "from copy import copy\n",
    "import random\n",
    "import math\n",
    "import itertools"
   ]
  },
  {
   "cell_type": "code",
   "execution_count": 2,
   "metadata": {},
   "outputs": [],
   "source": [
    "class Container:\n",
    "    \n",
    "    def __init__(self, volume, content=0):\n",
    "        \n",
    "        self.volume = volume\n",
    "        self.content = content\n",
    "        \n",
    "    def fill(self):\n",
    "        self.content = self.volume\n",
    "        \n",
    "    def empty(self):\n",
    "        was = copy(self.content)\n",
    "        self.content = 0\n",
    "        return was\n",
    "        \n",
    "    def __repr__(self):\n",
    "        return f'{self.content}/{self.volume}'\n",
    "    \n",
    "    def __len__(self):\n",
    "        return self.volume\n",
    "    \n",
    "        \n",
    "    def transfer_to(self, container):\n",
    "        available = container.volume - container.content\n",
    "        transferable = min(self.content, available)\n",
    "        self.content -= transferable\n",
    "        container.content += transferable\n",
    "        \n",
    "    "
   ]
  },
  {
   "cell_type": "code",
   "execution_count": 3,
   "metadata": {},
   "outputs": [],
   "source": [
    "cont1 = Container(75)\n",
    "cont2 = Container(90)"
   ]
  },
  {
   "cell_type": "code",
   "execution_count": 4,
   "metadata": {},
   "outputs": [
    {
     "data": {
      "text/plain": [
       "75"
      ]
     },
     "execution_count": 4,
     "metadata": {},
     "output_type": "execute_result"
    }
   ],
   "source": [
    "len(cont1)"
   ]
  },
  {
   "cell_type": "code",
   "execution_count": 5,
   "metadata": {},
   "outputs": [
    {
     "data": {
      "text/plain": [
       "75/75"
      ]
     },
     "execution_count": 5,
     "metadata": {},
     "output_type": "execute_result"
    }
   ],
   "source": [
    "cont1.fill()\n",
    "cont1"
   ]
  },
  {
   "cell_type": "code",
   "execution_count": 6,
   "metadata": {},
   "outputs": [
    {
     "name": "stdout",
     "output_type": "stream",
     "text": [
      "0/75 75/90\n",
      "75/75 0/90\n"
     ]
    }
   ],
   "source": [
    "cont1.transfer_to(cont2)\n",
    "print(cont1, cont2)\n",
    "cont2.transfer_to(cont1)\n",
    "print(cont1, cont2)"
   ]
  },
  {
   "cell_type": "code",
   "execution_count": 7,
   "metadata": {},
   "outputs": [],
   "source": [
    "# list of possible operations\n",
    "\n",
    "operations = [\n",
    "    'cont1.transfer_to(cont2)', \n",
    "    'cont2.transfer_to(cont1)',\n",
    "    'cont1.fill()',\n",
    "    'cont1.empty()',\n",
    "    'cont2.fill()',\n",
    "    'cont2.empty()',\n",
    "]"
   ]
  },
  {
   "cell_type": "code",
   "execution_count": 9,
   "metadata": {},
   "outputs": [],
   "source": [
    "def list_all_operations(n, operations):\n",
    "    \"\"\"\n",
    "    Returns a list of all possible combinations of operations\n",
    "    \"\"\"\n",
    "    return [list(k) for k in itertools.product(operations, repeat=n)]"
   ]
  },
  {
   "cell_type": "code",
   "execution_count": 11,
   "metadata": {},
   "outputs": [],
   "source": [
    "## Checking that number of possible operations matches theory\n",
    "for n in range(1, 6):\n",
    "    for k in range(1, 6):\n",
    "        assert len(list_all_operations(k, operations[:n])) == n**k"
   ]
  },
  {
   "cell_type": "markdown",
   "metadata": {},
   "source": [
    "# Problem solving "
   ]
  },
  {
   "cell_type": "markdown",
   "metadata": {},
   "source": [
    "You have two containers — one that measures 75 milliliters and one that measures 90 milliliters.\n",
    "\n",
    "You can do any of the following:\n",
    "\n",
    "- Completely fill a container from the tap.\n",
    "- Completely empty a container onto the ground.\n",
    "-  Pour a container into the other until it's completely full or the one pouring is completely empty.\n",
    "\n",
    "Your goal is to measure out exactly 32 milliliters of water. \n",
    "\n",
    "You may start with some water in one of the containers — which of these amounts must you choose?\n",
    "\n",
    "- 2 milliliters\n",
    "- 4 milliliters\n",
    "- 6 milliliters\n",
    "- 8 milliliters"
   ]
  },
  {
   "cell_type": "code",
   "execution_count": 12,
   "metadata": {},
   "outputs": [
    {
     "name": "stdout",
     "output_type": "stream",
     "text": [
      "['cont2.fill()', 'cont2.transfer_to(cont1)', 'cont1.empty()', 'cont2.transfer_to(cont1)', 'cont2.fill()', 'cont2.transfer_to(cont1)'] 75/75 32/90\n"
     ]
    }
   ],
   "source": [
    "cont1_contents = []\n",
    "cont2_contents = []\n",
    "for ops in list_all_operations(6, operations):\n",
    "    cont1 = Container(75, 2)\n",
    "    cont2 = Container(90, 0)\n",
    "\n",
    "    for oper in ops:\n",
    "        exec(oper)\n",
    "        if cont1.content == 32 or cont2.content == 32:\n",
    "            print(ops, cont1, cont2)\n",
    "            break\n",
    "    cont1_contents.append(cont1.content)\n",
    "    cont2_contents.append(cont2.content)"
   ]
  },
  {
   "cell_type": "code",
   "execution_count": null,
   "metadata": {},
   "outputs": [],
   "source": []
  }
 ],
 "metadata": {
  "kernelspec": {
   "display_name": "Python 3",
   "language": "python",
   "name": "python3"
  },
  "language_info": {
   "codemirror_mode": {
    "name": "ipython",
    "version": 3
   },
   "file_extension": ".py",
   "mimetype": "text/x-python",
   "name": "python",
   "nbconvert_exporter": "python",
   "pygments_lexer": "ipython3",
   "version": "3.7.3"
  }
 },
 "nbformat": 4,
 "nbformat_minor": 4
}
